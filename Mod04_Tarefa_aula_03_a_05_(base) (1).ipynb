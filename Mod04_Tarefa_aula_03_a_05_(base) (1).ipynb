{
 "cells": [
  {
   "cell_type": "markdown",
   "metadata": {
    "id": "njUvbhQmC8-t"
   },
   "source": [
    "## Exercício 1: Vestibular\n",
    "\n",
    "Considere que a os dados gerados na célula abaixo contêm o número de acertos de 100 alunos em um vestibular para um curso de exatas, divididas pelos respectivos assuntos. Considere que cada assunto possui um número de questões conforme a tabela abaixo:\n",
    "\n",
    "| assunto | número de questões |\n",
    "|:---:|:---:|\n",
    "| Matemática | 24 |\n",
    "| Português | 18 |\n",
    "| Geografia | 8 |\n",
    "| Inglês | 8 |\n",
    "| História | 8 |\n",
    "| Física | 12 |\n",
    "| Química | 12 |\n",
    "\n",
    "Usando os comandos de operações com DataFrames que você aprendeu na Aula 03, calcule:\n",
    "\n",
    "1. (operações com escalar) Calcule o percentual de acerto dos alunos por assunto.  \n",
    "2. (operações entre *DataFrames) Calcule o total de acertos de cada aluno.  \n",
    "3. Calcule o porcentual geral de cada aluno.  \n",
    "4. Suponha que a nota de corte para a segunda fase seja 45. Quantos alunos tiveram nota maior que 45?  "
   ]
  },
  {
   "cell_type": "code",
   "execution_count": 2,
   "metadata": {
    "id": "Ll6TadxCC8-y"
   },
   "outputs": [],
   "source": [
    "import pandas as pd\n",
    "import numpy as np\n",
    "\n",
    "np.random.seed(42)\n",
    "df_mat = pd.DataFrame(np.random.randint(24, size=(100, 1)), columns=['Qt_acertos'])\n",
    "\n",
    "df_por = pd.DataFrame(np.random.randint(18, size=(100, 1)), columns=['Qt_acertos'])\n",
    "\n",
    "df_geo = pd.DataFrame(np.random.randint(8, size=(100, 1)), columns=['Qt_acertos'])\n",
    "\n",
    "df_ing = pd.DataFrame(np.random.randint(8, size=(100, 1)), columns=['Qt_acertos'])\n",
    "\n",
    "df_his = pd.DataFrame(np.random.randint(8, size=(100, 1)), columns=['Qt_acertos'])\n",
    "\n",
    "df_fis = pd.DataFrame(np.random.randint(12, size=(100, 1)), columns=['Qt_acertos'])\n",
    "\n",
    "df_qui = pd.DataFrame(np.random.randint(12, size=(100, 1)), columns=['Qt_acertos'])"
   ]
  },
  {
   "cell_type": "code",
   "execution_count": 3,
   "metadata": {
    "id": "JVmLXiC2C8-0"
   },
   "outputs": [
    {
     "name": "stdout",
     "output_type": "stream",
     "text": [
      "Percentual de acertos por assunto:\n",
      "Matemática:\n",
      "    Qt_acertos  Percentual\n",
      "0           6   25.000000\n",
      "1          19   79.166667\n",
      "2          14   58.333333\n",
      "3          10   41.666667\n",
      "4           7   29.166667\n",
      "Português:\n",
      "    Qt_acertos  Percentual\n",
      "0           7   38.888889\n",
      "1          10   55.555556\n",
      "2          16   88.888889\n",
      "3           7   38.888889\n",
      "4           2   11.111111\n",
      "Geografia:\n",
      "    Qt_acertos  Percentual\n",
      "0           7        87.5\n",
      "1           0         0.0\n",
      "2           0         0.0\n",
      "3           3        37.5\n",
      "4           2        25.0\n",
      "Inglês:\n",
      "    Qt_acertos  Percentual\n",
      "0           3        37.5\n",
      "1           0         0.0\n",
      "2           5        62.5\n",
      "3           4        50.0\n",
      "4           7        87.5\n",
      "História:\n",
      "    Qt_acertos  Percentual\n",
      "0           1        12.5\n",
      "1           0         0.0\n",
      "2           7        87.5\n",
      "3           0         0.0\n",
      "4           0         0.0\n",
      "Física:\n",
      "    Qt_acertos  Percentual\n",
      "0           8   66.666667\n",
      "1          11   91.666667\n",
      "2           4   33.333333\n",
      "3           0    0.000000\n",
      "4           9   75.000000\n",
      "Química:\n",
      "    Qt_acertos  Percentual\n",
      "0           3   25.000000\n",
      "1           8   66.666667\n",
      "2           4   33.333333\n",
      "3           8   66.666667\n",
      "4           3   25.000000\n"
     ]
    }
   ],
   "source": [
    "# Número de questões por assunto\n",
    "total_questoes = {\n",
    "    'Matemática': 24,\n",
    "    'Português': 18,\n",
    "    'Geografia': 8,\n",
    "    'Inglês': 8,\n",
    "    'História': 8,\n",
    "    'Física': 12,\n",
    "    'Química': 12\n",
    "}\n",
    "\n",
    "# Calcular percentual de acertos por assunto\n",
    "df_mat['Percentual'] = (df_mat['Qt_acertos'] / total_questoes['Matemática']) * 100\n",
    "df_por['Percentual'] = (df_por['Qt_acertos'] / total_questoes['Português']) * 100\n",
    "df_geo['Percentual'] = (df_geo['Qt_acertos'] / total_questoes['Geografia']) * 100\n",
    "df_ing['Percentual'] = (df_ing['Qt_acertos'] / total_questoes['Inglês']) * 100\n",
    "df_his['Percentual'] = (df_his['Qt_acertos'] / total_questoes['História']) * 100\n",
    "df_fis['Percentual'] = (df_fis['Qt_acertos'] / total_questoes['Física']) * 100\n",
    "df_qui['Percentual'] = (df_qui['Qt_acertos'] / total_questoes['Química']) * 100\n",
    "\n",
    "print(\"Percentual de acertos por assunto:\")\n",
    "print(\"Matemática:\\n\", df_mat.head())\n",
    "print(\"Português:\\n\", df_por.head())\n",
    "print(\"Geografia:\\n\", df_geo.head())\n",
    "print(\"Inglês:\\n\", df_ing.head())\n",
    "print(\"História:\\n\", df_his.head())\n",
    "print(\"Física:\\n\", df_fis.head())\n",
    "print(\"Química:\\n\", df_qui.head())"
   ]
  },
  {
   "cell_type": "code",
   "execution_count": 4,
   "metadata": {
    "id": "JbTwCyNHC8-1"
   },
   "outputs": [
    {
     "name": "stdout",
     "output_type": "stream",
     "text": [
      "Total de acertos de cada aluno:\n",
      "    Matemática  Português  Geografia  Inglês  História  Física  Química  \\\n",
      "0           6          7          7       3         1       8        3   \n",
      "1          19         10          0       0         0      11        8   \n",
      "2          14         16          0       5         7       4        4   \n",
      "3          10          7          3       4         0       0        8   \n",
      "4           7          2          2       7         0       9        3   \n",
      "\n",
      "   Total_acertos  \n",
      "0             35  \n",
      "1             48  \n",
      "2             50  \n",
      "3             32  \n",
      "4             30  \n"
     ]
    }
   ],
   "source": [
    "# Concatenar todos os DataFrames em um único DataFrame\n",
    "df_total = pd.concat([df_mat['Qt_acertos'], df_por['Qt_acertos'], df_geo['Qt_acertos'],\n",
    "                      df_ing['Qt_acertos'], df_his['Qt_acertos'], df_fis['Qt_acertos'],\n",
    "                      df_qui['Qt_acertos']], axis=1)\n",
    "\n",
    "# Renomear as colunas para refletir os assuntos\n",
    "df_total.columns = ['Matemática', 'Português', 'Geografia', 'Inglês', 'História', 'Física', 'Química']\n",
    "\n",
    "# Calcular o total de acertos de cada aluno\n",
    "df_total['Total_acertos'] = df_total.sum(axis=1)\n",
    "\n",
    "print(\"Total de acertos de cada aluno:\\n\", df_total.head())"
   ]
  },
  {
   "cell_type": "code",
   "execution_count": 5,
   "metadata": {
    "id": "c2L8dJkVC8-3"
   },
   "outputs": [
    {
     "name": "stdout",
     "output_type": "stream",
     "text": [
      "Percentual geral de acertos de cada aluno:\n",
      "    Matemática  Português  Geografia  Inglês  História  Física  Química  \\\n",
      "0           6          7          7       3         1       8        3   \n",
      "1          19         10          0       0         0      11        8   \n",
      "2          14         16          0       5         7       4        4   \n",
      "3          10          7          3       4         0       0        8   \n",
      "4           7          2          2       7         0       9        3   \n",
      "\n",
      "   Total_acertos  Percentual_geral  \n",
      "0             35         38.888889  \n",
      "1             48         53.333333  \n",
      "2             50         55.555556  \n",
      "3             32         35.555556  \n",
      "4             30         33.333333  \n"
     ]
    }
   ],
   "source": [
    "# Total de questões de todos os assuntos\n",
    "total_questoes_geral = sum(total_questoes.values())\n",
    "\n",
    "# Calcular o percentual geral de acertos de cada aluno\n",
    "df_total['Percentual_geral'] = (df_total['Total_acertos'] / total_questoes_geral) * 100\n",
    "\n",
    "print(\"Percentual geral de acertos de cada aluno:\\n\", df_total.head())"
   ]
  },
  {
   "cell_type": "code",
   "execution_count": 6,
   "metadata": {
    "id": "PZTZ7DFzC8-3"
   },
   "outputs": [
    {
     "name": "stdout",
     "output_type": "stream",
     "text": [
      "Número de alunos com nota maior que 45: 31\n"
     ]
    }
   ],
   "source": [
    "# Calcular o número de alunos com nota maior que 45\n",
    "nota_corte = 45\n",
    "num_alunos_acima_corte = df_total[df_total['Total_acertos'] > nota_corte].shape[0]\n",
    "\n",
    "print(\"Número de alunos com nota maior que 45:\", num_alunos_acima_corte)"
   ]
  },
  {
   "cell_type": "markdown",
   "metadata": {
    "id": "Hlfl75XXC8-4"
   },
   "source": [
    "## 2) Vestibular II\n",
    "\n",
    "Ainda sobre o mesmo banco de dados:\n",
    "\n",
    "1. Neste vestibular, quem 'zera' em matemática, física ou química está desqualificado. Monte um novo *DataFrame* com os alunos desqualificados por este critério.\n",
    "2. Quantos são esses alunos?\n",
    "3. Qual a média desses alunos em história e geografia?\n",
    "4. Monte um *DataFrame* com os alunos que passaram para a segunda fase. Repare que estes alunos não podem ter sido desqualificados."
   ]
  },
  {
   "cell_type": "code",
   "execution_count": 8,
   "metadata": {
    "id": "hPaMGXvJC8-4"
   },
   "outputs": [
    {
     "name": "stdout",
     "output_type": "stream",
     "text": [
      "Número de alunos desqualificados: 23\n",
      "Média dos alunos desqualificados em História: 3.43\n",
      "Média dos alunos desqualificados em Geografia: 3.22\n",
      "Número de alunos qualificados para a segunda fase: 26\n"
     ]
    }
   ],
   "source": [
    "# Passo 1: Encontrar os alunos desqualificados\n",
    "df_desqualificados = df_total[\n",
    "    (df_total['Matemática'] == 0) | \n",
    "    (df_total['Física'] == 0) | \n",
    "    (df_total['Química'] == 0)\n",
    "]\n",
    "\n",
    "# Passo 2: Contar o número de alunos desqualificados\n",
    "num_desqualificados = df_desqualificados.shape[0]\n",
    "\n",
    "# Passo 3: Calcular a média dos alunos desqualificados em História e Geografia\n",
    "media_historia_desqualificados = df_desqualificados['História'].mean()\n",
    "media_geografia_desqualificados = df_desqualificados['Geografia'].mean()\n",
    "\n",
    "# Passo 4: Criar um DataFrame com os alunos que passaram para a segunda fase\n",
    "df_qualificados = df_total[\n",
    "    (df_total['Matemática'] != 0) & \n",
    "    (df_total['Física'] != 0) & \n",
    "    (df_total['Química'] != 0) & \n",
    "    (df_total['Total_acertos'] > nota_corte)\n",
    "]\n",
    "\n",
    "print(f\"Número de alunos desqualificados: {num_desqualificados}\")\n",
    "print(f\"Média dos alunos desqualificados em História: {media_historia_desqualificados:.2f}\")\n",
    "print(f\"Média dos alunos desqualificados em Geografia: {media_geografia_desqualificados:.2f}\")\n",
    "print(f\"Número de alunos qualificados para a segunda fase: {df_qualificados.shape[0]}\")"
   ]
  },
  {
   "cell_type": "markdown",
   "metadata": {
    "id": "EGBUWpAHC8-5"
   },
   "source": [
    "## 3) Vacinações no Acre\n",
    "Vamos trabalhar agora com a base de vacinações no Acre. Para facilitar a sua vida, copiamos o link do arquivo na célula abaixo.\n",
    "\n",
    "1. Quantas vacinas estão registradas nessa base?  \n",
    "2. Quantos pacientes foram vacinados? (considere um paciente para cada valor único de ```paciente_id```)  \n",
    "3. Quantos pacientes únicos tomaram a primeira dose? OBS: Há um caractere especial neste campo. Receba os valores do campo com o método ```.unique()```.   \n",
    "4. Quantos pacientes com menos de 18 anos foram vacinados?  \n",
    "5. Quantos estabelecimentos aplicaram vacina no Acre?\n",
    "\n",
    "\n",
    "**OBS:** O portal do DATASUS pode apresentar instabilidades, retornando um erro na segunda célula abaixo. Por este motivo está disponível uma base estática, que se for baixada para o seu *working directory* pode ser lida com este comando: ```df = pd.read_csv('registros de vacinacao covid ACRE.csv', sep=';')```.\n",
    "\n",
    "**OBS2:** Para saber qual é o seu working directory, rode no jupyter: ```!pwd```."
   ]
  },
  {
   "cell_type": "code",
   "execution_count": 10,
   "metadata": {
    "id": "ET4r139hC8-5"
   },
   "outputs": [],
   "source": [
    "arquivo = 'https://s3.sa-east-1.amazonaws.com/ckan.saude.gov.br/SIPNI/COVID/uf/uf%3DAC/part-00000-17332d39-e31b-458a-b9a5-c838c55ef160.c000.csv'"
   ]
  },
  {
   "cell_type": "code",
   "execution_count": 11,
   "metadata": {
    "id": "SC9YMWLSC8-6"
   },
   "outputs": [
    {
     "name": "stdout",
     "output_type": "stream",
     "text": [
      "Total de vacinas registradas: 388110\n",
      "Total de pacientes vacinados: 317139\n",
      "Total de pacientes únicos que tomaram a primeira dose: 143689\n",
      "Total de pacientes com menos de 18 anos vacinados: 68713\n",
      "Total de estabelecimentos que aplicaram vacinas no Acre: 63\n"
     ]
    }
   ],
   "source": [
    "# Carregar o arquivo CSV diretamente da URL\n",
    "try:\n",
    "    df = pd.read_csv(arquivo, sep=';')\n",
    "except Exception as e:\n",
    "    print(f\"Erro ao carregar o arquivo da URL: {e}\")\n",
    "    # Use o arquivo estático se o download falhar\n",
    "    df = pd.read_csv('registros de vacinacao covid ACRE.csv', sep=';')\n",
    "\n",
    "# Quantas vacinas estão registradas nessa base?\n",
    "total_vacinas = df.shape[0]\n",
    "\n",
    "# Quantos pacientes foram vacinados? (considerando valores únicos de paciente_id)\n",
    "total_pacientes = df['paciente_id'].nunique()\n",
    "\n",
    "# Quantos pacientes únicos tomaram a primeira dose? \n",
    "# Observação: Há um caractere especial neste campo\n",
    "primeira_dose_unicos = df[df['vacina_descricao_dose'].str.contains('1ª')]\\\n",
    "    ['paciente_id'].nunique()\n",
    "\n",
    "# Quantos pacientes com menos de 18 anos foram vacinados?\n",
    "pacientes_menos_18 = df[df['paciente_idade'] < 18]['paciente_id'].nunique()\n",
    "\n",
    "# Quantos estabelecimentos aplicaram vacina no Acre?\n",
    "total_estabelecimentos = df['estabelecimento_razaoSocial'].nunique()\n",
    "\n",
    "# Exibir os resultados\n",
    "print(f\"Total de vacinas registradas: {total_vacinas}\")\n",
    "print(f\"Total de pacientes vacinados: {total_pacientes}\")\n",
    "print(f\"Total de pacientes únicos que tomaram a primeira dose: {primeira_dose_unicos}\")\n",
    "print(f\"Total de pacientes com menos de 18 anos vacinados: {pacientes_menos_18}\")\n",
    "print(f\"Total de estabelecimentos que aplicaram vacinas no Acre: {total_estabelecimentos}\")\n"
   ]
  },
  {
   "cell_type": "markdown",
   "metadata": {
    "id": "LH1LSYvGC8-8"
   },
   "source": [
    "## 4) Vacinação II\n",
    "Gere um *DataFrame* que contenha somente os estabelecimentos que aplicaram vcinas a menores de 18 anos. Nesse *DataFrame* devem conter somente os dados dos estabelecimentos, mais uma coluna sendo a quantidade de vacinas que o estabelecimento aplicou a menores de 18 anos.  \n",
    "  \n",
    "1. crie uma cópia do *DataFrame* original, contendo somente os registros de vacinas realizadas a menores de 18 anos.  \n",
    "2. crie uma lista das colunas desse *DataFrame* com o atributo de *DataFrame* **.columns()**  \n",
    "3. Nesse *DataFrame* faça uma contagem do campo ```vacina_categoria_nome```.\n",
    "3. a partir da lista de colunas, escolha somente aquelas que são referentes ao estabelecimento, faça uma lista com esses valores.  \n",
    "4. usando o método *.loc*, selecione somente essas variáveis  \n",
    "5. Aplique o método **.drop_duplicates** e crie uma lista com uma linha para cada estabelecimento, com os dados do estabelecimento  "
   ]
  },
  {
   "cell_type": "code",
   "execution_count": 13,
   "metadata": {},
   "outputs": [
    {
     "name": "stdout",
     "output_type": "stream",
     "text": [
      "Index(['document_id', 'paciente_id', 'paciente_idade',\n",
      "       'paciente_dataNascimento', 'paciente_enumSexoBiologico',\n",
      "       'paciente_racaCor_codigo', 'paciente_racaCor_valor',\n",
      "       'paciente_endereco_coIbgeMunicipio', 'paciente_endereco_coPais',\n",
      "       'paciente_endereco_nmMunicipio', 'paciente_endereco_nmPais',\n",
      "       'paciente_endereco_uf', 'paciente_endereco_cep',\n",
      "       'paciente_nacionalidade_enumNacionalidade', 'estabelecimento_valor',\n",
      "       'estabelecimento_razaoSocial', 'estalecimento_noFantasia',\n",
      "       'estabelecimento_municipio_codigo', 'estabelecimento_municipio_nome',\n",
      "       'estabelecimento_uf', 'vacina_grupoAtendimento_codigo',\n",
      "       'vacina_grupoAtendimento_nome', 'vacina_categoria_codigo',\n",
      "       'vacina_categoria_nome', 'vacina_lote', 'vacina_fabricante_nome',\n",
      "       'vacina_fabricante_referencia', 'vacina_dataAplicacao',\n",
      "       'vacina_descricao_dose', 'vacina_codigo', 'vacina_nome',\n",
      "       'sistema_origem'],\n",
      "      dtype='object')\n",
      "Total de vacinas registradas: 388110\n",
      "Total de pacientes vacinados: 317139\n",
      "Total de pacientes únicos que tomaram a primeira dose: 143689\n",
      "Total de pacientes com menos de 18 anos vacinados: 68713\n",
      "Total de estabelecimentos que aplicaram vacinas no Acre: 63\n",
      "     estabelecimento_valor            estabelecimento_razaoSocial  \\\n",
      "0                   115606                    K M OLIVEIRA EIRELI   \n",
      "1                   117382                    USF LIDIA RODRIGUES   \n",
      "2                   197599     CENTRAL MUNICIPAL DE REDE DE FRIOS   \n",
      "3                   468363                          REDE DE FRIOS   \n",
      "4                   499919       MUNICIPIO DE SANTA ROSA DO PURUS   \n",
      "..                     ...                                    ...   \n",
      "197                9846433  PREFEITURA MUNICIPAL DE MANOEL URBANO   \n",
      "198                9896392          SECRETARIA MUNICIPAL DE SAUDE   \n",
      "199                9908382                    USF AEROPORTO VELHO   \n",
      "200                9948759                PREFEITURA DE BRASILEIA   \n",
      "201                9957650          SECRETARIA DE ESTADO DE SAUDE   \n",
      "\n",
      "     estabelecimento_municipio_codigo estabelecimento_municipio_nome  \\\n",
      "0                              120020                CRUZEIRO DO SUL   \n",
      "1                              120040                     RIO BRANCO   \n",
      "2                              120020                CRUZEIRO DO SUL   \n",
      "3                              120033                    MANCIO LIMA   \n",
      "4                              120043            SANTA ROSA DO PURUS   \n",
      "..                                ...                            ...   \n",
      "197                            120034                  MANOEL URBANO   \n",
      "198                            120060                       TARAUACA   \n",
      "199                            120040                     RIO BRANCO   \n",
      "200                            120010                      BRASILEIA   \n",
      "201                            120020                CRUZEIRO DO SUL   \n",
      "\n",
      "    estabelecimento_uf  quantidade_vacinas_menores_18  \n",
      "0                   AC                              1  \n",
      "1                   AC                             41  \n",
      "2                   AC                              2  \n",
      "3                   AC                            907  \n",
      "4                   AC                             22  \n",
      "..                 ...                            ...  \n",
      "197                 AC                              2  \n",
      "198                 AC                             31  \n",
      "199                 AC                             74  \n",
      "200                 AC                             49  \n",
      "201                 AC                              9  \n",
      "\n",
      "[202 rows x 6 columns]\n"
     ]
    }
   ],
   "source": [
    "import pandas as pd\n",
    "\n",
    "# URL do arquivo\n",
    "arquivo = 'https://s3.sa-east-1.amazonaws.com/ckan.saude.gov.br/SIPNI/COVID/uf/uf%3DAC/part-00000-17332d39-e31b-458a-b9a5-c838c55ef160.c000.csv'\n",
    "\n",
    "# Carregar o arquivo CSV diretamente da URL\n",
    "try:\n",
    "    df = pd.read_csv(arquivo, sep=';')\n",
    "except Exception as e:\n",
    "    print(f\"Erro ao carregar o arquivo da URL: {e}\")\n",
    "    # Use o arquivo estático se o download falhar\n",
    "    df = pd.read_csv('registros de vacinacao covid ACRE.csv', sep=';')\n",
    "\n",
    "# Verificar as colunas do DataFrame\n",
    "print(df.columns)\n",
    "\n",
    "# Quantas vacinas estão registradas nessa base?\n",
    "total_vacinas = df.shape[0]\n",
    "print(f\"Total de vacinas registradas: {total_vacinas}\")\n",
    "\n",
    "# Quantos pacientes foram vacinados? (considerando valores únicos de paciente_id)\n",
    "total_pacientes = df['paciente_id'].nunique()\n",
    "print(f\"Total de pacientes vacinados: {total_pacientes}\")\n",
    "\n",
    "# Quantos pacientes únicos tomaram a primeira dose? \n",
    "primeira_dose_unicos = df[df['vacina_descricao_dose'].str.contains('1ª')]['paciente_id'].nunique()\n",
    "print(f\"Total de pacientes únicos que tomaram a primeira dose: {primeira_dose_unicos}\")\n",
    "\n",
    "# Quantos pacientes com menos de 18 anos foram vacinados?\n",
    "pacientes_menos_18 = df[df['paciente_idade'] < 18]['paciente_id'].nunique()\n",
    "print(f\"Total de pacientes com menos de 18 anos vacinados: {pacientes_menos_18}\")\n",
    "\n",
    "# Quantos estabelecimentos aplicaram vacina no Acre?\n",
    "total_estabelecimentos = df['estabelecimento_razaoSocial'].nunique()\n",
    "print(f\"Total de estabelecimentos que aplicaram vacinas no Acre: {total_estabelecimentos}\")\n",
    "\n",
    "# Criar uma cópia do DataFrame original, contendo somente os registros de vacinas realizadas a menores de 18 anos\n",
    "df_menores_18 = df[df['paciente_idade'] < 18].copy()\n",
    "\n",
    "# Ajustar a lista de colunas de acordo com as colunas reais do DataFrame\n",
    "colunas_estabelecimento = [\n",
    "    'estabelecimento_valor', \n",
    "    'estabelecimento_razaoSocial',\n",
    "    'estabelecimento_municipio_codigo',\n",
    "    'estabelecimento_municipio_nome',\n",
    "    'estabelecimento_uf'\n",
    "]\n",
    "\n",
    "# Selecionar as colunas referentes aos estabelecimentos no DataFrame\n",
    "df_estabelecimentos_menores_18 = df_menores_18.loc[:, colunas_estabelecimento]\n",
    "\n",
    "# Remover duplicatas\n",
    "df_estabelecimentos_unicos = df_estabelecimentos_menores_18.drop_duplicates().copy()\n",
    "\n",
    "# Contar a quantidade de vacinas aplicadas por cada estabelecimento\n",
    "vacinas_por_estabelecimento = df_menores_18.groupby(colunas_estabelecimento).size().reset_index(name='quantidade_vacinas_menores_18')\n",
    "\n",
    "# Exibir o DataFrame final\n",
    "print(vacinas_por_estabelecimento)\n"
   ]
  },
  {
   "cell_type": "code",
   "execution_count": null,
   "metadata": {},
   "outputs": [],
   "source": []
  }
 ],
 "metadata": {
  "colab": {
   "provenance": []
  },
  "kernelspec": {
   "display_name": "Python 3 (ipykernel)",
   "language": "python",
   "name": "python3"
  },
  "language_info": {
   "codemirror_mode": {
    "name": "ipython",
    "version": 3
   },
   "file_extension": ".py",
   "mimetype": "text/x-python",
   "name": "python",
   "nbconvert_exporter": "python",
   "pygments_lexer": "ipython3",
   "version": "3.12.4"
  },
  "toc": {
   "base_numbering": 1,
   "nav_menu": {},
   "number_sections": false,
   "sideBar": true,
   "skip_h1_title": true,
   "title_cell": "Índice",
   "title_sidebar": "Conteúdo",
   "toc_cell": false,
   "toc_position": {},
   "toc_section_display": true,
   "toc_window_display": false
  },
  "varInspector": {
   "cols": {
    "lenName": 16,
    "lenType": 16,
    "lenVar": 40
   },
   "kernels_config": {
    "python": {
     "delete_cmd_postfix": "",
     "delete_cmd_prefix": "del ",
     "library": "var_list.py",
     "varRefreshCmd": "print(var_dic_list())"
    },
    "r": {
     "delete_cmd_postfix": ") ",
     "delete_cmd_prefix": "rm(",
     "library": "var_list.r",
     "varRefreshCmd": "cat(var_dic_list()) "
    }
   },
   "types_to_exclude": [
    "module",
    "function",
    "builtin_function_or_method",
    "instance",
    "_Feature"
   ],
   "window_display": false
  }
 },
 "nbformat": 4,
 "nbformat_minor": 4
}
